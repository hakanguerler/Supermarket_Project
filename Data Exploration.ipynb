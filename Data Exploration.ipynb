{
 "cells": [
  {
   "cell_type": "markdown",
   "id": "fc6b283e",
   "metadata": {},
   "source": [
    "# Data Exploration\n",
    "\n",
    ". Taking 1 data file: wendnesday.csv\n",
    "\n",
    ". Calculate the total number of customers in each section\n",
    "\n",
    ". Calculate the total number of customers in each section over time\n",
    "\n",
    ". Display the number of customers at checkout over time\n",
    "\n",
    ". Calculate the time each customer spent in the market\n",
    "\n",
    ". Calculate the total number of customers in the supermarket over time.\n",
    "\n",
    ". Our business managers think that the first section customers visit follows a different pattern than the following ones. Plot the distribution of customers of their first visited section versus following sections (treat all sections visited after the first as “following”"
   ]
  },
  {
   "cell_type": "code",
   "execution_count": 163,
   "id": "6d987a89",
   "metadata": {},
   "outputs": [],
   "source": [
    "import pandas as pd\n",
    "import seaborn as sns\n",
    "import datetime as dt\n",
    "from matplotlib import pyplot as plt"
   ]
  },
  {
   "cell_type": "code",
   "execution_count": 164,
   "id": "26588bfb",
   "metadata": {},
   "outputs": [
    {
     "data": {
      "text/html": [
       "<div>\n",
       "<style scoped>\n",
       "    .dataframe tbody tr th:only-of-type {\n",
       "        vertical-align: middle;\n",
       "    }\n",
       "\n",
       "    .dataframe tbody tr th {\n",
       "        vertical-align: top;\n",
       "    }\n",
       "\n",
       "    .dataframe thead th {\n",
       "        text-align: right;\n",
       "    }\n",
       "</style>\n",
       "<table border=\"1\" class=\"dataframe\">\n",
       "  <thead>\n",
       "    <tr style=\"text-align: right;\">\n",
       "      <th></th>\n",
       "      <th>timestamp</th>\n",
       "      <th>customer_no</th>\n",
       "      <th>location</th>\n",
       "    </tr>\n",
       "  </thead>\n",
       "  <tbody>\n",
       "    <tr>\n",
       "      <th>0</th>\n",
       "      <td>2019-09-04 07:00:00</td>\n",
       "      <td>1</td>\n",
       "      <td>fruit</td>\n",
       "    </tr>\n",
       "    <tr>\n",
       "      <th>1</th>\n",
       "      <td>2019-09-04 07:00:00</td>\n",
       "      <td>2</td>\n",
       "      <td>dairy</td>\n",
       "    </tr>\n",
       "    <tr>\n",
       "      <th>2</th>\n",
       "      <td>2019-09-04 07:00:00</td>\n",
       "      <td>3</td>\n",
       "      <td>fruit</td>\n",
       "    </tr>\n",
       "    <tr>\n",
       "      <th>3</th>\n",
       "      <td>2019-09-04 07:00:00</td>\n",
       "      <td>4</td>\n",
       "      <td>fruit</td>\n",
       "    </tr>\n",
       "    <tr>\n",
       "      <th>4</th>\n",
       "      <td>2019-09-04 07:00:00</td>\n",
       "      <td>5</td>\n",
       "      <td>dairy</td>\n",
       "    </tr>\n",
       "  </tbody>\n",
       "</table>\n",
       "</div>"
      ],
      "text/plain": [
       "             timestamp  customer_no location\n",
       "0  2019-09-04 07:00:00            1    fruit\n",
       "1  2019-09-04 07:00:00            2    dairy\n",
       "2  2019-09-04 07:00:00            3    fruit\n",
       "3  2019-09-04 07:00:00            4    fruit\n",
       "4  2019-09-04 07:00:00            5    dairy"
      ]
     },
     "execution_count": 164,
     "metadata": {},
     "output_type": "execute_result"
    }
   ],
   "source": [
    "wed = pd.read_csv('D:/DS/Data/supermarket/wednesday.csv', sep= ';')\n",
    "wed.head()"
   ]
  },
  {
   "cell_type": "code",
   "execution_count": 165,
   "id": "e0f40402",
   "metadata": {},
   "outputs": [
    {
     "data": {
      "text/plain": [
       "(5050, 3)"
      ]
     },
     "execution_count": 165,
     "metadata": {},
     "output_type": "execute_result"
    }
   ],
   "source": [
    "wed.shape"
   ]
  },
  {
   "cell_type": "code",
   "execution_count": 166,
   "id": "15ddcf97",
   "metadata": {},
   "outputs": [
    {
     "data": {
      "text/plain": [
       "<bound method DataFrame.info of                 timestamp  customer_no  location\n",
       "0     2019-09-04 07:00:00            1     fruit\n",
       "1     2019-09-04 07:00:00            2     dairy\n",
       "2     2019-09-04 07:00:00            3     fruit\n",
       "3     2019-09-04 07:00:00            4     fruit\n",
       "4     2019-09-04 07:00:00            5     dairy\n",
       "...                   ...          ...       ...\n",
       "5045  2019-09-04 21:48:00         1528    spices\n",
       "5046  2019-09-04 21:49:00         1520     dairy\n",
       "5047  2019-09-04 21:49:00         1529     dairy\n",
       "5048  2019-09-04 21:49:00         1530     fruit\n",
       "5049  2019-09-04 21:49:00         1531  checkout\n",
       "\n",
       "[5050 rows x 3 columns]>"
      ]
     },
     "execution_count": 166,
     "metadata": {},
     "output_type": "execute_result"
    }
   ],
   "source": [
    "wed.info"
   ]
  },
  {
   "cell_type": "code",
   "execution_count": 167,
   "id": "f7840711",
   "metadata": {},
   "outputs": [
    {
     "data": {
      "text/html": [
       "<div>\n",
       "<style scoped>\n",
       "    .dataframe tbody tr th:only-of-type {\n",
       "        vertical-align: middle;\n",
       "    }\n",
       "\n",
       "    .dataframe tbody tr th {\n",
       "        vertical-align: top;\n",
       "    }\n",
       "\n",
       "    .dataframe thead th {\n",
       "        text-align: right;\n",
       "    }\n",
       "</style>\n",
       "<table border=\"1\" class=\"dataframe\">\n",
       "  <thead>\n",
       "    <tr style=\"text-align: right;\">\n",
       "      <th></th>\n",
       "      <th>timestamp</th>\n",
       "      <th>customer_no</th>\n",
       "      <th>location</th>\n",
       "      <th>time</th>\n",
       "    </tr>\n",
       "  </thead>\n",
       "  <tbody>\n",
       "    <tr>\n",
       "      <th>0</th>\n",
       "      <td>2019-09-04 07:00:00</td>\n",
       "      <td>1</td>\n",
       "      <td>fruit</td>\n",
       "      <td>2019-09-04 07:00:00</td>\n",
       "    </tr>\n",
       "    <tr>\n",
       "      <th>1</th>\n",
       "      <td>2019-09-04 07:00:00</td>\n",
       "      <td>2</td>\n",
       "      <td>dairy</td>\n",
       "      <td>2019-09-04 07:00:00</td>\n",
       "    </tr>\n",
       "    <tr>\n",
       "      <th>2</th>\n",
       "      <td>2019-09-04 07:00:00</td>\n",
       "      <td>3</td>\n",
       "      <td>fruit</td>\n",
       "      <td>2019-09-04 07:00:00</td>\n",
       "    </tr>\n",
       "    <tr>\n",
       "      <th>3</th>\n",
       "      <td>2019-09-04 07:00:00</td>\n",
       "      <td>4</td>\n",
       "      <td>fruit</td>\n",
       "      <td>2019-09-04 07:00:00</td>\n",
       "    </tr>\n",
       "    <tr>\n",
       "      <th>4</th>\n",
       "      <td>2019-09-04 07:00:00</td>\n",
       "      <td>5</td>\n",
       "      <td>dairy</td>\n",
       "      <td>2019-09-04 07:00:00</td>\n",
       "    </tr>\n",
       "  </tbody>\n",
       "</table>\n",
       "</div>"
      ],
      "text/plain": [
       "            timestamp  customer_no location                time\n",
       "0 2019-09-04 07:00:00            1    fruit 2019-09-04 07:00:00\n",
       "1 2019-09-04 07:00:00            2    dairy 2019-09-04 07:00:00\n",
       "2 2019-09-04 07:00:00            3    fruit 2019-09-04 07:00:00\n",
       "3 2019-09-04 07:00:00            4    fruit 2019-09-04 07:00:00\n",
       "4 2019-09-04 07:00:00            5    dairy 2019-09-04 07:00:00"
      ]
     },
     "execution_count": 167,
     "metadata": {},
     "output_type": "execute_result"
    }
   ],
   "source": [
    "wed['timestamp'] = pd.to_datetime(wed['timestamp'], format=\"%Y-%m-%d %H:%M:%S\")\n",
    "wed['time'] = wed['timestamp']\n",
    "wed.head()"
   ]
  },
  {
   "cell_type": "markdown",
   "id": "5065111a",
   "metadata": {},
   "source": [
    "## Calculate the total number of customers in each section"
   ]
  },
  {
   "cell_type": "code",
   "execution_count": 169,
   "id": "3f76d11d",
   "metadata": {},
   "outputs": [],
   "source": [
    "wed.set_index('timestamp', inplace= True )"
   ]
  },
  {
   "cell_type": "code",
   "execution_count": 170,
   "id": "55804716",
   "metadata": {},
   "outputs": [
    {
     "data": {
      "text/html": [
       "<div>\n",
       "<style scoped>\n",
       "    .dataframe tbody tr th:only-of-type {\n",
       "        vertical-align: middle;\n",
       "    }\n",
       "\n",
       "    .dataframe tbody tr th {\n",
       "        vertical-align: top;\n",
       "    }\n",
       "\n",
       "    .dataframe thead th {\n",
       "        text-align: right;\n",
       "    }\n",
       "</style>\n",
       "<table border=\"1\" class=\"dataframe\">\n",
       "  <thead>\n",
       "    <tr style=\"text-align: right;\">\n",
       "      <th></th>\n",
       "      <th>customer_no</th>\n",
       "      <th>time</th>\n",
       "    </tr>\n",
       "    <tr>\n",
       "      <th>location</th>\n",
       "      <th></th>\n",
       "      <th></th>\n",
       "    </tr>\n",
       "  </thead>\n",
       "  <tbody>\n",
       "    <tr>\n",
       "      <th>checkout</th>\n",
       "      <td>1526</td>\n",
       "      <td>1526</td>\n",
       "    </tr>\n",
       "    <tr>\n",
       "      <th>dairy</th>\n",
       "      <td>976</td>\n",
       "      <td>976</td>\n",
       "    </tr>\n",
       "    <tr>\n",
       "      <th>drinks</th>\n",
       "      <td>775</td>\n",
       "      <td>775</td>\n",
       "    </tr>\n",
       "    <tr>\n",
       "      <th>fruit</th>\n",
       "      <td>1043</td>\n",
       "      <td>1043</td>\n",
       "    </tr>\n",
       "    <tr>\n",
       "      <th>spices</th>\n",
       "      <td>730</td>\n",
       "      <td>730</td>\n",
       "    </tr>\n",
       "  </tbody>\n",
       "</table>\n",
       "</div>"
      ],
      "text/plain": [
       "          customer_no  time\n",
       "location                   \n",
       "checkout         1526  1526\n",
       "dairy             976   976\n",
       "drinks            775   775\n",
       "fruit            1043  1043\n",
       "spices            730   730"
      ]
     },
     "execution_count": 170,
     "metadata": {},
     "output_type": "execute_result"
    }
   ],
   "source": [
    "wed.groupby('location').count()"
   ]
  },
  {
   "cell_type": "code",
   "execution_count": 171,
   "id": "0a1b8521",
   "metadata": {},
   "outputs": [
    {
     "data": {
      "text/plain": [
       "<AxesSubplot:xlabel='location', ylabel='count'>"
      ]
     },
     "execution_count": 171,
     "metadata": {},
     "output_type": "execute_result"
    },
    {
     "data": {
      "image/png": "[encoded data removed]",
      "text/plain": [
       "<Figure size 1080x360 with 1 Axes>"
      ]
     },
     "metadata": {
      "needs_background": "light"
     },
     "output_type": "display_data"
    }
   ],
   "source": [
    "sns.countplot(data = wed\n",
    "            ,x = 'location')"
   ]
  },
  {
   "cell_type": "markdown",
   "id": "44ddb5e5",
   "metadata": {},
   "source": [
    "## Calculate the total number of customers in the supermarket over time."
   ]
  },
  {
   "cell_type": "code",
   "execution_count": 172,
   "id": "7c23d5ee",
   "metadata": {},
   "outputs": [
    {
     "data": {
      "text/plain": [
       "timestamp\n",
       "2019-09-04 07:00:00    279\n",
       "2019-09-04 08:00:00    547\n",
       "2019-09-04 09:00:00    373\n",
       "2019-09-04 10:00:00    283\n",
       "2019-09-04 11:00:00    287\n",
       "2019-09-04 12:00:00    271\n",
       "2019-09-04 13:00:00    358\n",
       "2019-09-04 14:00:00    344\n",
       "2019-09-04 15:00:00    246\n",
       "2019-09-04 16:00:00    310\n",
       "2019-09-04 17:00:00    305\n",
       "2019-09-04 18:00:00    319\n",
       "2019-09-04 19:00:00    674\n",
       "2019-09-04 20:00:00    290\n",
       "2019-09-04 21:00:00    164\n",
       "Freq: H, Name: location, dtype: int64"
      ]
     },
     "execution_count": 172,
     "metadata": {},
     "output_type": "execute_result"
    }
   ],
   "source": [
    "customers_per_h = wed['location'].resample('H').count()\n",
    "customers_per_h"
   ]
  },
  {
   "cell_type": "markdown",
   "id": "ae9e8283",
   "metadata": {},
   "source": [
    "## Calculate the total number of customers in each section over time"
   ]
  },
  {
   "cell_type": "code",
   "execution_count": 173,
   "id": "9748f535",
   "metadata": {},
   "outputs": [
    {
     "data": {
      "text/plain": [
       "location  timestamp          \n",
       "checkout  2019-09-04 07:00:00     85\n",
       "          2019-09-04 08:00:00    165\n",
       "          2019-09-04 09:00:00    106\n",
       "          2019-09-04 10:00:00     85\n",
       "          2019-09-04 11:00:00     88\n",
       "Name: location, dtype: int64"
      ]
     },
     "execution_count": 173,
     "metadata": {},
     "output_type": "execute_result"
    }
   ],
   "source": [
    "location_per_h = wed['location'].groupby(wed['location']).resample('H').count()\n",
    "location_per_h.head()"
   ]
  },
  {
   "cell_type": "markdown",
   "id": "dac83f6f",
   "metadata": {},
   "source": [
    "## Display the number of customers  in each section over time"
   ]
  },
  {
   "cell_type": "code",
   "execution_count": 174,
   "id": "c01e519c",
   "metadata": {},
   "outputs": [
    {
     "data": {
      "text/plain": [
       "<AxesSubplot:xlabel='timestamp'>"
      ]
     },
     "execution_count": 174,
     "metadata": {},
     "output_type": "execute_result"
    },
    {
     "data": {
      "image/png": "[encoded data removed]",
      "text/plain": [
       "<Figure size 1080x360 with 1 Axes>"
      ]
     },
     "metadata": {
      "needs_background": "light"
     },
     "output_type": "display_data"
    }
   ],
   "source": [
    "plt.rcParams['figure.figsize'] = [15, 5]\n",
    "location_per_h.unstack(0).plot()"
   ]
  },
  {
   "cell_type": "markdown",
   "id": "9fd28415",
   "metadata": {},
   "source": [
    "## Calculate the time each customer spent in the market"
   ]
  },
  {
   "cell_type": "code",
   "execution_count": 175,
   "id": "5cf5dfad",
   "metadata": {},
   "outputs": [
    {
     "data": {
      "text/plain": [
       "customer_no\n",
       "1      0 days 00:02:00\n",
       "2      0 days 00:06:00\n",
       "3      0 days 00:11:00\n",
       "4      0 days 00:03:00\n",
       "5      0 days 00:01:00\n",
       "             ...      \n",
       "1527   0 days 00:03:00\n",
       "1528   0 days 00:03:00\n",
       "1529   0 days 00:04:00\n",
       "1530   0 days 00:03:00\n",
       "1531   0 days 00:03:00\n",
       "Name: spenttime, Length: 1531, dtype: timedelta64[ns]"
      ]
     },
     "execution_count": 175,
     "metadata": {},
     "output_type": "execute_result"
    }
   ],
   "source": [
    "checkin =wed.groupby('customer_no')['time'].min()\n",
    "checkout =wed.groupby('customer_no')['time'].max()\n",
    "time_spent = pd.concat([checkin, checkout], axis=1)\n",
    "time_spent['spenttime'] = checkout - checkin\n",
    "time_spent['spenttime']"
   ]
  },
  {
   "cell_type": "markdown",
   "id": "0a230780",
   "metadata": {},
   "source": [
    "## Plot the distribution of customers of their first visited section versus following sections "
   ]
  },
  {
   "cell_type": "code",
   "execution_count": 140,
   "id": "d15ab54a",
   "metadata": {},
   "outputs": [
    {
     "data": {
      "text/html": [
       "<div>\n",
       "<style scoped>\n",
       "    .dataframe tbody tr th:only-of-type {\n",
       "        vertical-align: middle;\n",
       "    }\n",
       "\n",
       "    .dataframe tbody tr th {\n",
       "        vertical-align: top;\n",
       "    }\n",
       "\n",
       "    .dataframe thead th {\n",
       "        text-align: right;\n",
       "    }\n",
       "</style>\n",
       "<table border=\"1\" class=\"dataframe\">\n",
       "  <thead>\n",
       "    <tr style=\"text-align: right;\">\n",
       "      <th></th>\n",
       "      <th>customer_no</th>\n",
       "      <th>location</th>\n",
       "      <th>first</th>\n",
       "    </tr>\n",
       "    <tr>\n",
       "      <th>timestamp</th>\n",
       "      <th></th>\n",
       "      <th></th>\n",
       "      <th></th>\n",
       "    </tr>\n",
       "  </thead>\n",
       "  <tbody>\n",
       "    <tr>\n",
       "      <th>2019-09-04 07:00:00</th>\n",
       "      <td>1</td>\n",
       "      <td>fruit</td>\n",
       "      <td>False</td>\n",
       "    </tr>\n",
       "    <tr>\n",
       "      <th>2019-09-04 07:00:00</th>\n",
       "      <td>2</td>\n",
       "      <td>dairy</td>\n",
       "      <td>False</td>\n",
       "    </tr>\n",
       "    <tr>\n",
       "      <th>2019-09-04 07:00:00</th>\n",
       "      <td>3</td>\n",
       "      <td>fruit</td>\n",
       "      <td>False</td>\n",
       "    </tr>\n",
       "    <tr>\n",
       "      <th>2019-09-04 07:00:00</th>\n",
       "      <td>4</td>\n",
       "      <td>fruit</td>\n",
       "      <td>False</td>\n",
       "    </tr>\n",
       "    <tr>\n",
       "      <th>2019-09-04 07:00:00</th>\n",
       "      <td>5</td>\n",
       "      <td>dairy</td>\n",
       "      <td>False</td>\n",
       "    </tr>\n",
       "  </tbody>\n",
       "</table>\n",
       "</div>"
      ],
      "text/plain": [
       "                     customer_no location  first\n",
       "timestamp                                       \n",
       "2019-09-04 07:00:00            1    fruit  False\n",
       "2019-09-04 07:00:00            2    dairy  False\n",
       "2019-09-04 07:00:00            3    fruit  False\n",
       "2019-09-04 07:00:00            4    fruit  False\n",
       "2019-09-04 07:00:00            5    dairy  False"
      ]
     },
     "execution_count": 140,
     "metadata": {},
     "output_type": "execute_result"
    }
   ],
   "source": [
    "wed['first'] = wed.duplicated('customer_no')\n",
    "wed.head()"
   ]
  },
  {
   "cell_type": "code",
   "execution_count": 141,
   "id": "a2ab89f3",
   "metadata": {},
   "outputs": [],
   "source": [
    "first = wed[wed['first'] == False]\n",
    "follow = wed[wed['first'] == True]"
   ]
  },
  {
   "cell_type": "code",
   "execution_count": 142,
   "id": "eafed8f2",
   "metadata": {},
   "outputs": [],
   "source": [
    "first_group = first.groupby('location').count()\n",
    "following_group = follow.groupby('location').count()"
   ]
  },
  {
   "cell_type": "code",
   "execution_count": 143,
   "id": "76cca8d3",
   "metadata": {},
   "outputs": [
    {
     "name": "stderr",
     "output_type": "stream",
     "text": [
      "C:\\Users\\olive\\anaconda3\\lib\\site-packages\\seaborn\\_decorators.py:36: FutureWarning: Pass the following variables as keyword args: x, y. From version 0.12, the only valid positional argument will be `data`, and passing other arguments without an explicit keyword will result in an error or misinterpretation.\n",
      "  warnings.warn(\n",
      "C:\\Users\\olive\\anaconda3\\lib\\site-packages\\seaborn\\_decorators.py:36: FutureWarning: Pass the following variables as keyword args: x, y. From version 0.12, the only valid positional argument will be `data`, and passing other arguments without an explicit keyword will result in an error or misinterpretation.\n",
      "  warnings.warn(\n"
     ]
    },
    {
     "data": {
      "text/plain": [
       "Text(0.5, 1.0, 'Following Sections')"
      ]
     },
     "execution_count": 143,
     "metadata": {},
     "output_type": "execute_result"
    },
    {
     "data": {
      "image/png": "[encoded data removed]",
      "text/plain": [
       "<Figure size 1080x360 with 2 Axes>"
      ]
     },
     "metadata": {
      "needs_background": "light"
     },
     "output_type": "display_data"
    }
   ],
   "source": [
    "# no one went straight to checkout\n",
    "fig, ax =plt.subplots(1,2, figsize=(15,5))\n",
    "sns.barplot(first_group.index, first_group['customer_no'], ax=ax[0]).set_title('First Section')\n",
    "sns.barplot(following_group.index, following_group['customer_no'], ax=ax[1]).set_title('Following Sections')"
   ]
  },
  {
   "cell_type": "markdown",
   "id": "284ccaee",
   "metadata": {},
   "source": [
    "# Transition Probabilities for one customer"
   ]
  },
  {
   "cell_type": "code",
   "execution_count": 144,
   "id": "11dcf065",
   "metadata": {},
   "outputs": [
    {
     "data": {
      "text/html": [
       "<div>\n",
       "<style scoped>\n",
       "    .dataframe tbody tr th:only-of-type {\n",
       "        vertical-align: middle;\n",
       "    }\n",
       "\n",
       "    .dataframe tbody tr th {\n",
       "        vertical-align: top;\n",
       "    }\n",
       "\n",
       "    .dataframe thead th {\n",
       "        text-align: right;\n",
       "    }\n",
       "</style>\n",
       "<table border=\"1\" class=\"dataframe\">\n",
       "  <thead>\n",
       "    <tr style=\"text-align: right;\">\n",
       "      <th></th>\n",
       "      <th>customer_no</th>\n",
       "      <th>location</th>\n",
       "      <th>first</th>\n",
       "      <th>after</th>\n",
       "    </tr>\n",
       "    <tr>\n",
       "      <th>timestamp</th>\n",
       "      <th></th>\n",
       "      <th></th>\n",
       "      <th></th>\n",
       "      <th></th>\n",
       "    </tr>\n",
       "  </thead>\n",
       "  <tbody>\n",
       "    <tr>\n",
       "      <th>2019-09-04 07:00:00</th>\n",
       "      <td>1</td>\n",
       "      <td>fruit</td>\n",
       "      <td>False</td>\n",
       "      <td>checkout</td>\n",
       "    </tr>\n",
       "    <tr>\n",
       "      <th>2019-09-04 07:00:00</th>\n",
       "      <td>2</td>\n",
       "      <td>dairy</td>\n",
       "      <td>False</td>\n",
       "      <td>spices</td>\n",
       "    </tr>\n",
       "    <tr>\n",
       "      <th>2019-09-04 07:00:00</th>\n",
       "      <td>3</td>\n",
       "      <td>fruit</td>\n",
       "      <td>False</td>\n",
       "      <td>spices</td>\n",
       "    </tr>\n",
       "    <tr>\n",
       "      <th>2019-09-04 07:00:00</th>\n",
       "      <td>4</td>\n",
       "      <td>fruit</td>\n",
       "      <td>False</td>\n",
       "      <td>checkout</td>\n",
       "    </tr>\n",
       "    <tr>\n",
       "      <th>2019-09-04 07:00:00</th>\n",
       "      <td>5</td>\n",
       "      <td>dairy</td>\n",
       "      <td>False</td>\n",
       "      <td>checkout</td>\n",
       "    </tr>\n",
       "  </tbody>\n",
       "</table>\n",
       "</div>"
      ],
      "text/plain": [
       "                     customer_no location  first     after\n",
       "timestamp                                                 \n",
       "2019-09-04 07:00:00            1    fruit  False  checkout\n",
       "2019-09-04 07:00:00            2    dairy  False    spices\n",
       "2019-09-04 07:00:00            3    fruit  False    spices\n",
       "2019-09-04 07:00:00            4    fruit  False  checkout\n",
       "2019-09-04 07:00:00            5    dairy  False  checkout"
      ]
     },
     "execution_count": 144,
     "metadata": {},
     "output_type": "execute_result"
    }
   ],
   "source": [
    "wed['after'] = wed.groupby(['customer_no'])['location'].shift(-1)\n",
    "wed.head()"
   ]
  },
  {
   "cell_type": "code",
   "execution_count": 145,
   "id": "e0b4ea0a",
   "metadata": {},
   "outputs": [
    {
     "data": {
      "text/html": [
       "<div>\n",
       "<style scoped>\n",
       "    .dataframe tbody tr th:only-of-type {\n",
       "        vertical-align: middle;\n",
       "    }\n",
       "\n",
       "    .dataframe tbody tr th {\n",
       "        vertical-align: top;\n",
       "    }\n",
       "\n",
       "    .dataframe thead th {\n",
       "        text-align: right;\n",
       "    }\n",
       "</style>\n",
       "<table border=\"1\" class=\"dataframe\">\n",
       "  <thead>\n",
       "    <tr style=\"text-align: right;\">\n",
       "      <th></th>\n",
       "      <th>customer_no</th>\n",
       "      <th>location</th>\n",
       "      <th>first</th>\n",
       "      <th>after</th>\n",
       "    </tr>\n",
       "    <tr>\n",
       "      <th>timestamp</th>\n",
       "      <th></th>\n",
       "      <th></th>\n",
       "      <th></th>\n",
       "      <th></th>\n",
       "    </tr>\n",
       "  </thead>\n",
       "  <tbody>\n",
       "    <tr>\n",
       "      <th>2019-09-04 07:10:00</th>\n",
       "      <td>20</td>\n",
       "      <td>spices</td>\n",
       "      <td>False</td>\n",
       "      <td>fruit</td>\n",
       "    </tr>\n",
       "    <tr>\n",
       "      <th>2019-09-04 07:12:00</th>\n",
       "      <td>20</td>\n",
       "      <td>fruit</td>\n",
       "      <td>True</td>\n",
       "      <td>dairy</td>\n",
       "    </tr>\n",
       "    <tr>\n",
       "      <th>2019-09-04 07:16:00</th>\n",
       "      <td>20</td>\n",
       "      <td>dairy</td>\n",
       "      <td>True</td>\n",
       "      <td>spices</td>\n",
       "    </tr>\n",
       "    <tr>\n",
       "      <th>2019-09-04 07:17:00</th>\n",
       "      <td>20</td>\n",
       "      <td>spices</td>\n",
       "      <td>True</td>\n",
       "      <td>drinks</td>\n",
       "    </tr>\n",
       "    <tr>\n",
       "      <th>2019-09-04 07:19:00</th>\n",
       "      <td>20</td>\n",
       "      <td>drinks</td>\n",
       "      <td>True</td>\n",
       "      <td>spices</td>\n",
       "    </tr>\n",
       "    <tr>\n",
       "      <th>2019-09-04 07:20:00</th>\n",
       "      <td>20</td>\n",
       "      <td>spices</td>\n",
       "      <td>True</td>\n",
       "      <td>dairy</td>\n",
       "    </tr>\n",
       "    <tr>\n",
       "      <th>2019-09-04 07:21:00</th>\n",
       "      <td>20</td>\n",
       "      <td>dairy</td>\n",
       "      <td>True</td>\n",
       "      <td>checkout</td>\n",
       "    </tr>\n",
       "    <tr>\n",
       "      <th>2019-09-04 07:31:00</th>\n",
       "      <td>20</td>\n",
       "      <td>checkout</td>\n",
       "      <td>True</td>\n",
       "      <td>NaN</td>\n",
       "    </tr>\n",
       "  </tbody>\n",
       "</table>\n",
       "</div>"
      ],
      "text/plain": [
       "                     customer_no  location  first     after\n",
       "timestamp                                                  \n",
       "2019-09-04 07:10:00           20    spices  False     fruit\n",
       "2019-09-04 07:12:00           20     fruit   True     dairy\n",
       "2019-09-04 07:16:00           20     dairy   True    spices\n",
       "2019-09-04 07:17:00           20    spices   True    drinks\n",
       "2019-09-04 07:19:00           20    drinks   True    spices\n",
       "2019-09-04 07:20:00           20    spices   True     dairy\n",
       "2019-09-04 07:21:00           20     dairy   True  checkout\n",
       "2019-09-04 07:31:00           20  checkout   True       NaN"
      ]
     },
     "execution_count": 145,
     "metadata": {},
     "output_type": "execute_result"
    }
   ],
   "source": [
    "kulissara = wed.loc[wed['customer_no']==20]\n",
    "kulissara"
   ]
  },
  {
   "cell_type": "code",
   "execution_count": 146,
   "id": "bc5678d3",
   "metadata": {},
   "outputs": [
    {
     "data": {
      "text/html": [
       "<div>\n",
       "<style scoped>\n",
       "    .dataframe tbody tr th:only-of-type {\n",
       "        vertical-align: middle;\n",
       "    }\n",
       "\n",
       "    .dataframe tbody tr th {\n",
       "        vertical-align: top;\n",
       "    }\n",
       "\n",
       "    .dataframe thead th {\n",
       "        text-align: right;\n",
       "    }\n",
       "</style>\n",
       "<table border=\"1\" class=\"dataframe\">\n",
       "  <thead>\n",
       "    <tr style=\"text-align: right;\">\n",
       "      <th>location</th>\n",
       "      <th>dairy</th>\n",
       "      <th>drinks</th>\n",
       "      <th>fruit</th>\n",
       "      <th>spices</th>\n",
       "    </tr>\n",
       "    <tr>\n",
       "      <th>after</th>\n",
       "      <th></th>\n",
       "      <th></th>\n",
       "      <th></th>\n",
       "      <th></th>\n",
       "    </tr>\n",
       "  </thead>\n",
       "  <tbody>\n",
       "    <tr>\n",
       "      <th>checkout</th>\n",
       "      <td>1.0</td>\n",
       "      <td>0.0</td>\n",
       "      <td>0.0</td>\n",
       "      <td>0.0</td>\n",
       "    </tr>\n",
       "    <tr>\n",
       "      <th>dairy</th>\n",
       "      <td>0.0</td>\n",
       "      <td>0.0</td>\n",
       "      <td>0.5</td>\n",
       "      <td>0.5</td>\n",
       "    </tr>\n",
       "    <tr>\n",
       "      <th>drinks</th>\n",
       "      <td>0.0</td>\n",
       "      <td>0.0</td>\n",
       "      <td>0.0</td>\n",
       "      <td>1.0</td>\n",
       "    </tr>\n",
       "    <tr>\n",
       "      <th>fruit</th>\n",
       "      <td>0.0</td>\n",
       "      <td>0.0</td>\n",
       "      <td>0.0</td>\n",
       "      <td>1.0</td>\n",
       "    </tr>\n",
       "    <tr>\n",
       "      <th>spices</th>\n",
       "      <td>0.5</td>\n",
       "      <td>0.5</td>\n",
       "      <td>0.0</td>\n",
       "      <td>0.0</td>\n",
       "    </tr>\n",
       "  </tbody>\n",
       "</table>\n",
       "</div>"
      ],
      "text/plain": [
       "location  dairy  drinks  fruit  spices\n",
       "after                                 \n",
       "checkout    1.0     0.0    0.0     0.0\n",
       "dairy       0.0     0.0    0.5     0.5\n",
       "drinks      0.0     0.0    0.0     1.0\n",
       "fruit       0.0     0.0    0.0     1.0\n",
       "spices      0.5     0.5    0.0     0.0"
      ]
     },
     "execution_count": 146,
     "metadata": {},
     "output_type": "execute_result"
    }
   ],
   "source": [
    "transprob_matrix = pd.crosstab(kulissara['after'], kulissara['location'], normalize=0)\n",
    "transprob_matrix"
   ]
  },
  {
   "cell_type": "markdown",
   "id": "3127b0d7",
   "metadata": {},
   "source": [
    "# Monte-Carlo-Markov-Chain for one customer"
   ]
  },
  {
   "cell_type": "code",
   "execution_count": 147,
   "id": "864eb6df",
   "metadata": {},
   "outputs": [],
   "source": [
    "from random import choices"
   ]
  },
  {
   "cell_type": "code",
   "execution_count": 159,
   "id": "cf8193b1",
   "metadata": {},
   "outputs": [],
   "source": [
    "STATES = ['checkout', 'dairy', 'drinks', 'fruit', 'spices']"
   ]
  },
  {
   "cell_type": "code",
   "execution_count": 160,
   "id": "98d78e75",
   "metadata": {},
   "outputs": [
    {
     "data": {
      "text/plain": [
       "{'checkin': [0.0, 0.25, 0.25, 0.25, 0.25],\n",
       " 'dairy': array([1. , 0. , 0. , 0. , 0.5]),\n",
       " 'drinks': array([0. , 0. , 0. , 0. , 0.5]),\n",
       " 'fruit': array([0. , 0.5, 0. , 0. , 0. ]),\n",
       " 'spices': array([0. , 0.5, 1. , 1. , 0. ])}"
      ]
     },
     "execution_count": 160,
     "metadata": {},
     "output_type": "execute_result"
    }
   ],
   "source": [
    "P = {'checkin': [0.0, 0.25, 0.25, 0.25, 0.25],\n",
    "    'dairy': transprob_matrix['dairy'].values, \n",
    "     'drinks' : transprob_matrix['drinks'].values,\n",
    "     'fruit': transprob_matrix['fruit'].values,\n",
    "     'spices': transprob_matrix['spices'].values}\n",
    "P"
   ]
  },
  {
   "cell_type": "code",
   "execution_count": 161,
   "id": "39be4c76",
   "metadata": {},
   "outputs": [
    {
     "name": "stdout",
     "output_type": "stream",
     "text": [
      "Kulissara checkout after shopping 9 sections in supermarket\n"
     ]
    }
   ],
   "source": [
    "def mcmc(initial_state, P):\n",
    "    \"\"\"\n",
    "    runs a Monte Carlo Markov Chain until checkout\n",
    "    \n",
    "    :params:\n",
    "    :initial_state: this is a string with the state name that you start with\n",
    "    :P: a dict of lists with the transition probability matrix\n",
    "    \"\"\"\n",
    "    history = [initial_state]\n",
    "    state = initial_state\n",
    "    while state != 'checkout':\n",
    "        probs = P[state]\n",
    "        state = choices(STATES, probs) [0]\n",
    "        history.append(state)\n",
    "        if history[-1] == 'checkout':\n",
    "            return history\n",
    "\n",
    "print(f\"Kulissara checkout after shopping {len(mcmc('checkin', P))} sections in supermarket\")"
   ]
  },
  {
   "cell_type": "code",
   "execution_count": null,
   "id": "8ea86c6a",
   "metadata": {},
   "outputs": [],
   "source": []
  }
 ],
 "metadata": {
  "kernelspec": {
   "display_name": "Python 3",
   "language": "python",
   "name": "python3"
  },
  "language_info": {
   "codemirror_mode": {
    "name": "ipython",
    "version": 3
   },
   "file_extension": ".py",
   "mimetype": "text/x-python",
   "name": "python",
   "nbconvert_exporter": "python",
   "pygments_lexer": "ipython3",
   "version": "3.8.8"
  }
 },
 "nbformat": 4,
 "nbformat_minor": 5
}
